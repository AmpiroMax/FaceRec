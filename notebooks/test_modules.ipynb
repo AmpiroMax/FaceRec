{
 "cells": [
  {
   "cell_type": "code",
   "execution_count": 1,
   "metadata": {},
   "outputs": [],
   "source": [
    "from src.data.dataset import CelebADataset\n",
    "from src.data.preprocessing import (\n",
    "    pre_transform,\n",
    "    augmentation_transforms,\n",
    "    post_transform\n",
    ")\n",
    "\n",
    "from src.models.efficientnet import EfficientNetModel\n",
    "from src.pipeline.train_model import train\n",
    "from src.pipeline.save_load_model import (\n",
    "    save_model,\n",
    "    load_model\n",
    ")\n",
    "\n",
    "from src.models.inference_model import FaceRec\n",
    "\n",
    "import albumentations as albu\n",
    "from torch import nn, optim\n",
    "import torch"
   ]
  },
  {
   "cell_type": "code",
   "execution_count": 2,
   "metadata": {},
   "outputs": [],
   "source": [
    "DEVICE = \"cuda\" if torch.cuda.is_available() else \"cpu\"\n",
    "\n",
    "\n",
    "EMBEDDING_SIZE = 300\n",
    "MARGIN = 1.0\n",
    "\n",
    "N_ANCHOR_CLASSES = 10\n",
    "\n",
    "BATCH_SIZE = 64\n",
    "MOMENTUM = 0.9\n",
    "LR = 1e-3"
   ]
  },
  {
   "cell_type": "code",
   "execution_count": 3,
   "metadata": {},
   "outputs": [
    {
     "data": {
      "application/vnd.jupyter.widget-view+json": {
       "model_id": "c9af870f83e64ea2ba50efd6c280c44a",
       "version_major": 2,
       "version_minor": 0
      },
      "text/plain": [
       "Reading images:   0%|          | 0/202599 [00:00<?, ?it/s]"
      ]
     },
     "metadata": {},
     "output_type": "display_data"
    }
   ],
   "source": [
    "basic_transformation = albu.Compose([\n",
    "    pre_transform(), post_transform()\n",
    "])\n",
    "\n",
    "augmentation_transformation = albu.Compose([\n",
    "    pre_transform(), augmentation_transforms(), post_transform()\n",
    "])\n",
    "\n",
    "dataset = CelebADataset(\n",
    "    basic_transforms=basic_transformation,\n",
    "    augmentation_transforms=augmentation_transformation\n",
    ")"
   ]
  },
  {
   "cell_type": "code",
   "execution_count": 4,
   "metadata": {},
   "outputs": [],
   "source": [
    "model = EfficientNetModel(EMBEDDING_SIZE).to(DEVICE)\n",
    "model.train()\n",
    "opt = optim.SGD(model.get_trainable_params(), lr=LR, momentum=MOMENTUM)\n",
    "scheduler = optim.lr_scheduler.StepLR(opt, 1, gamma=0.8, last_epoch=-1)\n",
    "\n",
    "triplet_loss = nn.TripletMarginLoss(margin=MARGIN, p=2.0)"
   ]
  },
  {
   "cell_type": "code",
   "execution_count": 5,
   "metadata": {},
   "outputs": [
    {
     "data": {
      "application/vnd.jupyter.widget-view+json": {
       "model_id": "a217aa07859049748a834993e99ebf38",
       "version_major": 2,
       "version_minor": 0
      },
      "text/plain": [
       "  0%|          | 0/2 [00:00<?, ?it/s]"
      ]
     },
     "metadata": {},
     "output_type": "display_data"
    },
    {
     "data": {
      "application/vnd.jupyter.widget-view+json": {
       "model_id": "51ee842fc0f84b45b4c4427f2319ae0a",
       "version_major": 2,
       "version_minor": 0
      },
      "text/plain": [
       "  0%|          | 0/2 [00:00<?, ?it/s]"
      ]
     },
     "metadata": {},
     "output_type": "display_data"
    },
    {
     "data": {
      "application/vnd.jupyter.widget-view+json": {
       "model_id": "048649d1d7da4dee8b31875cea66d816",
       "version_major": 2,
       "version_minor": 0
      },
      "text/plain": [
       "  0%|          | 0/2 [00:00<?, ?it/s]"
      ]
     },
     "metadata": {},
     "output_type": "display_data"
    },
    {
     "data": {
      "application/vnd.jupyter.widget-view+json": {
       "model_id": "c2b437a24a924f14b97ae2a381f1bf4c",
       "version_major": 2,
       "version_minor": 0
      },
      "text/plain": [
       "  0%|          | 0/2 [00:00<?, ?it/s]"
      ]
     },
     "metadata": {},
     "output_type": "display_data"
    },
    {
     "data": {
      "application/vnd.jupyter.widget-view+json": {
       "model_id": "0576483095bb46d68e14b95d75fa432f",
       "version_major": 2,
       "version_minor": 0
      },
      "text/plain": [
       "  0%|          | 0/2 [00:00<?, ?it/s]"
      ]
     },
     "metadata": {},
     "output_type": "display_data"
    }
   ],
   "source": [
    "history = train(\n",
    "    model=model,\n",
    "    train_dataset=dataset,\n",
    "    loss_func=triplet_loss,\n",
    "    opt=opt,\n",
    "    scheduler=scheduler,\n",
    "    session_size=2,\n",
    "    epoch_num=5,\n",
    "    tensorboard=True\n",
    ")"
   ]
  },
  {
   "cell_type": "code",
   "execution_count": 6,
   "metadata": {},
   "outputs": [],
   "source": [
    "save_model(\n",
    "    model=model,\n",
    "    model_name=\"efficient_1\"\n",
    ")"
   ]
  },
  {
   "cell_type": "code",
   "execution_count": null,
   "metadata": {},
   "outputs": [],
   "source": []
  }
 ],
 "metadata": {
  "kernelspec": {
   "display_name": ".venv",
   "language": "python",
   "name": "python3"
  },
  "language_info": {
   "codemirror_mode": {
    "name": "ipython",
    "version": 3
   },
   "file_extension": ".py",
   "mimetype": "text/x-python",
   "name": "python",
   "nbconvert_exporter": "python",
   "pygments_lexer": "ipython3",
   "version": "3.10.7"
  },
  "orig_nbformat": 4
 },
 "nbformat": 4,
 "nbformat_minor": 2
}
